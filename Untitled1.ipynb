{
  "nbformat": 4,
  "nbformat_minor": 0,
  "metadata": {
    "colab": {
      "name": "Untitled1.ipynb",
      "provenance": [],
      "authorship_tag": "ABX9TyNLsoAgoQT2dXd5vNqfX4rm",
      "include_colab_link": true
    },
    "kernelspec": {
      "name": "python3",
      "display_name": "Python 3"
    }
  },
  "cells": [
    {
      "cell_type": "markdown",
      "metadata": {
        "id": "view-in-github",
        "colab_type": "text"
      },
      "source": [
        "<a href=\"https://colab.research.google.com/github/sambd86/AD-Detection-From-3D-Brain-MRI-Data-Using-Deep-Deterministic-Convolutional-Neural-Networks/blob/master/Untitled1.ipynb\" target=\"_parent\"><img src=\"https://colab.research.google.com/assets/colab-badge.svg\" alt=\"Open In Colab\"/></a>"
      ]
    },
    {
      "cell_type": "code",
      "metadata": {
        "id": "7cdkcNd5uPsu",
        "colab_type": "code",
        "colab": {}
      },
      "source": [
        "radius=5"
      ],
      "execution_count": 13,
      "outputs": []
    },
    {
      "cell_type": "code",
      "metadata": {
        "id": "E7tsvrVw-1NU",
        "colab_type": "code",
        "colab": {}
      },
      "source": [
        "PI=3.14"
      ],
      "execution_count": 42,
      "outputs": []
    },
    {
      "cell_type": "code",
      "metadata": {
        "id": "wWyyZGd3uahm",
        "colab_type": "code",
        "colab": {
          "base_uri": "https://localhost:8080/",
          "height": 35
        },
        "outputId": "6f0666d3-d23a-404e-f03a-f2ceea92f2bb"
      },
      "source": [
        "area=PI*radius*radius\n",
        "print(\"The area of a circle with radius:\",radius,\" is:\", area)"
      ],
      "execution_count": 45,
      "outputs": [
        {
          "output_type": "stream",
          "text": [
            "The area of a circle with radius: 10  is: 314.0\n"
          ],
          "name": "stdout"
        }
      ]
    },
    {
      "cell_type": "code",
      "metadata": {
        "id": "Wzt5PiAougTR",
        "colab_type": "code",
        "colab": {
          "base_uri": "https://localhost:8080/",
          "height": 35
        },
        "outputId": "ada456f6-6d11-4885-eb63-bbf4075ffa01"
      },
      "source": [
        "radius=eval(input(\"enter the radius\"))"
      ],
      "execution_count": 27,
      "outputs": [
        {
          "output_type": "stream",
          "text": [
            "enter the radius10\n"
          ],
          "name": "stdout"
        }
      ]
    },
    {
      "cell_type": "code",
      "metadata": {
        "id": "6mhp89ttvYZm",
        "colab_type": "code",
        "colab": {
          "base_uri": "https://localhost:8080/",
          "height": 35
        },
        "outputId": "37491632-87ba-4b88-c89c-4126b0962213"
      },
      "source": [
        "print(type(radius))"
      ],
      "execution_count": 22,
      "outputs": [
        {
          "output_type": "stream",
          "text": [
            "<class 'float'>\n"
          ],
          "name": "stdout"
        }
      ]
    },
    {
      "cell_type": "code",
      "metadata": {
        "id": "Lxpf9OKBvfJT",
        "colab_type": "code",
        "colab": {}
      },
      "source": [
        "#radius=int(radius)"
      ],
      "execution_count": 25,
      "outputs": []
    },
    {
      "cell_type": "code",
      "metadata": {
        "id": "yNmwQRZsz7_S",
        "colab_type": "code",
        "colab": {
          "base_uri": "https://localhost:8080/",
          "height": 35
        },
        "outputId": "94bb4394-652c-4be6-b4e1-6a438154afc5"
      },
      "source": [
        "print(type(radius))"
      ],
      "execution_count": 24,
      "outputs": [
        {
          "output_type": "stream",
          "text": [
            "<class 'float'>\n"
          ],
          "name": "stdout"
        }
      ]
    },
    {
      "cell_type": "code",
      "metadata": {
        "id": "3KloeZ3fu1hW",
        "colab_type": "code",
        "colab": {
          "base_uri": "https://localhost:8080/",
          "height": 35
        },
        "outputId": "bba630e6-6572-4eca-e0d9-07c73e14bcc3"
      },
      "source": [
        "area=3.14*radius*radius\n",
        "print(radius, area)"
      ],
      "execution_count": 28,
      "outputs": [
        {
          "output_type": "stream",
          "text": [
            "10 314.0\n"
          ],
          "name": "stdout"
        }
      ]
    },
    {
      "cell_type": "code",
      "metadata": {
        "id": "BrzXyw3c0cCR",
        "colab_type": "code",
        "colab": {
          "base_uri": "https://localhost:8080/",
          "height": 35
        },
        "outputId": "be299cfa-7c63-40af-f140-a1a7179de3f1"
      },
      "source": [
        "number1,number2,number3=eval(input(\"enter three numbers:\"))\n"
      ],
      "execution_count": 34,
      "outputs": [
        {
          "output_type": "stream",
          "text": [
            "enter three numbers:10,25,35\n"
          ],
          "name": "stdout"
        }
      ]
    },
    {
      "cell_type": "code",
      "metadata": {
        "id": "OHxlXAvW1RJO",
        "colab_type": "code",
        "colab": {
          "base_uri": "https://localhost:8080/",
          "height": 35
        },
        "outputId": "6b82f38e-cce6-4c9d-8bcb-8010b22b6237"
      },
      "source": [
        "average=(number1+number2+number3)/3\n",
        "print(average)"
      ],
      "execution_count": 35,
      "outputs": [
        {
          "output_type": "stream",
          "text": [
            "23.333333333333332\n"
          ],
          "name": "stdout"
        }
      ]
    },
    {
      "cell_type": "code",
      "metadata": {
        "id": "v5-hqhjQ9olk",
        "colab_type": "code",
        "colab": {
          "base_uri": "https://localhost:8080/",
          "height": 90
        },
        "outputId": "65155743-f607-45f7-d192-04a0737eab22"
      },
      "source": [
        "print('Avarege= ',(eval(input('Enter Number1 ='))+eval(input('Enter Number2 ='))+eval(input('Enter Number3 =')))/3)"
      ],
      "execution_count": 36,
      "outputs": [
        {
          "output_type": "stream",
          "text": [
            "Enter Number1 =10\n",
            "Enter Number2 =20\n",
            "Enter Number3 =30\n",
            "Avarege=  20.0\n"
          ],
          "name": "stdout"
        }
      ]
    },
    {
      "cell_type": "code",
      "metadata": {
        "id": "_5XpxQ659wtr",
        "colab_type": "code",
        "colab": {}
      },
      "source": [
        "print('Avarege= ',(eval(input('Enter Number1 ='))+eval(input('Enter Number2 ='))+eval(input('Enter Number3 =')))/3)"
      ],
      "execution_count": null,
      "outputs": []
    },
    {
      "cell_type": "code",
      "metadata": {
        "id": "99TinT7G-Rgk",
        "colab_type": "code",
        "colab": {
          "base_uri": "https://localhost:8080/",
          "height": 35
        },
        "outputId": "df4dce9e-481d-4504-d3a6-b1affcf986f8"
      },
      "source": [
        "i , j , k = 1,2,3\n",
        "print(i,j,k)"
      ],
      "execution_count": 40,
      "outputs": [
        {
          "output_type": "stream",
          "text": [
            "1 2 3\n"
          ],
          "name": "stdout"
        }
      ]
    },
    {
      "cell_type": "code",
      "metadata": {
        "id": "KZwkAEIX_BE9",
        "colab_type": "code",
        "colab": {
          "base_uri": "https://localhost:8080/",
          "height": 55
        },
        "outputId": "e39cd90c-359d-442f-f354-554b4e4da61b"
      },
      "source": [
        "print(2**1500)"
      ],
      "execution_count": 49,
      "outputs": [
        {
          "output_type": "stream",
          "text": [
            "35074662110434038747627587960280857993524015880330828824075798024790963850563322203657080886584969261653150406795437517399294548941469959754171038918004700847889956485329097264486802711583462946536682184340138629451355458264946342525383619389314960644665052551751442335509249173361130355796109709885580674313954210217657847432626760733004753275317192133674703563372783297041993227052663333668509952000175053355529058880434182538386715523683713208549376\n"
          ],
          "name": "stdout"
        }
      ]
    },
    {
      "cell_type": "code",
      "metadata": {
        "id": "MnOkzbML_rSK",
        "colab_type": "code",
        "colab": {
          "base_uri": "https://localhost:8080/",
          "height": 54
        },
        "outputId": "17107755-448b-46a9-9492-6c29b0856e76"
      },
      "source": [
        "seconds=eval(input(\"Plz enter seconds:\"))\n",
        "min=seconds//60\n",
        "seconds=seconds%60\n",
        "print(\"minute:\",min, \"and seconds:\",seconds)"
      ],
      "execution_count": 52,
      "outputs": [
        {
          "output_type": "stream",
          "text": [
            "Plz enter seconds:1000000000000000000000000\n",
            "minute: 16666666666666666666666 and seconds: 40\n"
          ],
          "name": "stdout"
        }
      ]
    },
    {
      "cell_type": "code",
      "metadata": {
        "id": "rvWGnSteAtTD",
        "colab_type": "code",
        "colab": {
          "base_uri": "https://localhost:8080/",
          "height": 54
        },
        "outputId": "a11b17b4-b076-444c-d7f5-9a4cde399b03"
      },
      "source": [
        "purchaseAmount=eval(input(\"enter sales amount:\"))\n",
        "salesTax=purchaseAmount*0.06\n",
        "print(salesTax)"
      ],
      "execution_count": 53,
      "outputs": [
        {
          "output_type": "stream",
          "text": [
            "enter sales amount:15222\n",
            "913.3199999999999\n"
          ],
          "name": "stdout"
        }
      ]
    },
    {
      "cell_type": "code",
      "metadata": {
        "id": "p7pO3pDcBJtt",
        "colab_type": "code",
        "colab": {}
      },
      "source": [
        "import time as t"
      ],
      "execution_count": 55,
      "outputs": []
    },
    {
      "cell_type": "code",
      "metadata": {
        "id": "rthhRnF9BOhL",
        "colab_type": "code",
        "colab": {
          "base_uri": "https://localhost:8080/",
          "height": 35
        },
        "outputId": "fb8be6cf-a84e-49bd-9c68-a5a80e84ab01"
      },
      "source": [
        "currentTime=t.time()\n",
        "print(currentTime)"
      ],
      "execution_count": 66,
      "outputs": [
        {
          "output_type": "stream",
          "text": [
            "1597325975.046006\n"
          ],
          "name": "stdout"
        }
      ]
    },
    {
      "cell_type": "code",
      "metadata": {
        "id": "U-vmnZrBBvvI",
        "colab_type": "code",
        "colab": {}
      },
      "source": [
        "seconds=int(currentTime)\n",
        "minute=seconds//60\n",
        "seconds=seconds%60\n",
        "hour=minute//60\n",
        "minute=minute%60\n",
        "day=hour//24\n",
        "hour=hour%24\n",
        "\n"
      ],
      "execution_count": 67,
      "outputs": []
    },
    {
      "cell_type": "code",
      "metadata": {
        "id": "YCwt9tSKCTAE",
        "colab_type": "code",
        "colab": {
          "base_uri": "https://localhost:8080/",
          "height": 35
        },
        "outputId": "b516f21f-aaea-42b1-eb19-9bcd587d9558"
      },
      "source": [
        "print(day,hour,minute,seconds)"
      ],
      "execution_count": 68,
      "outputs": [
        {
          "output_type": "stream",
          "text": [
            "18487 13 39 35\n"
          ],
          "name": "stdout"
        }
      ]
    },
    {
      "cell_type": "code",
      "metadata": {
        "id": "qhZwjM32MQlU",
        "colab_type": "code",
        "colab": {}
      },
      "source": [
        ""
      ],
      "execution_count": null,
      "outputs": []
    },
    {
      "cell_type": "code",
      "metadata": {
        "id": "5aJL6rkOG21F",
        "colab_type": "code",
        "colab": {
          "base_uri": "https://localhost:8080/",
          "height": 90
        },
        "outputId": "e16893e7-8d50-482d-a74c-6a7e671d4db0"
      },
      "source": [
        "w= eval(input('weidth='))\n",
        "h=eval(input('Height= '))\n",
        "perimeter = 2 * (w + h)\n",
        "print(perimeter)\n",
        "area= w*h\n",
        "print(area)"
      ],
      "execution_count": 69,
      "outputs": [
        {
          "output_type": "stream",
          "text": [
            "weidth=4.5\n",
            "Height= 7.9\n",
            "24.8\n",
            "35.550000000000004\n"
          ],
          "name": "stdout"
        }
      ]
    },
    {
      "cell_type": "code",
      "metadata": {
        "id": "M64efR8GHFB6",
        "colab_type": "code",
        "colab": {
          "base_uri": "https://localhost:8080/",
          "height": 35
        },
        "outputId": "965e8bf8-7312-4864-a3a5-a2db45999c20"
      },
      "source": [
        "length= 4.5\n",
        "width =7.9\n",
        "\n",
        "area= length* width\n",
        "perimeter = 2*(length+width)\n",
        "\n",
        "print(\"area: \", area,\"perimerter: \",perimeter)"
      ],
      "execution_count": 70,
      "outputs": [
        {
          "output_type": "stream",
          "text": [
            "area:  35.550000000000004 perimerter:  24.8\n"
          ],
          "name": "stdout"
        }
      ]
    },
    {
      "cell_type": "code",
      "metadata": {
        "id": "KQ8uPMhYH1EN",
        "colab_type": "code",
        "colab": {
          "base_uri": "https://localhost:8080/",
          "height": 54
        },
        "outputId": "999d9ce8-d8df-4fda-fbc1-02c9cfa002d4"
      },
      "source": [
        "celsius=eval(input('enter celsius='))\n",
        "fahrenheit = (9.0 / 5.0) * celsius + 32\n",
        "print(\"fahrenheit: \", fahrenheit)"
      ],
      "execution_count": 72,
      "outputs": [
        {
          "output_type": "stream",
          "text": [
            "enter celsius=0\n",
            "fahrenheit:  32.0\n"
          ],
          "name": "stdout"
        }
      ]
    },
    {
      "cell_type": "code",
      "metadata": {
        "id": "cMsHc36eIU3Q",
        "colab_type": "code",
        "colab": {
          "base_uri": "https://localhost:8080/",
          "height": 72
        },
        "outputId": "17c6f0c5-60ec-474a-a586-7c95047543e3"
      },
      "source": [
        "PI=3.1416\n",
        "radius,length=eval(input('Enter the radius and length of a cylinder'))\n",
        "area = radius * radius * PI\n",
        "volume = area * length\n",
        "print(\"The area is \",area)\n",
        "print(\"The volume is \",volume)"
      ],
      "execution_count": 76,
      "outputs": [
        {
          "output_type": "stream",
          "text": [
            "Enter the radius and length of a cylinder5.5,12\n",
            "The area is  95.0334\n",
            "The volume is  1140.4008\n"
          ],
          "name": "stdout"
        }
      ]
    },
    {
      "cell_type": "code",
      "metadata": {
        "id": "H-jcqFQKJ6UL",
        "colab_type": "code",
        "colab": {
          "base_uri": "https://localhost:8080/",
          "height": 54
        },
        "outputId": "5c906161-d5e3-4671-d212-9939eabbd732"
      },
      "source": [
        "feet=eval(input('Enter a value for feet'))\n",
        "meter = feet * 0.305 \n",
        "\n",
        "\n",
        "print(\"The meter is \",meter)"
      ],
      "execution_count": 77,
      "outputs": [
        {
          "output_type": "stream",
          "text": [
            "Enter a value for feet16.5\n",
            "The meter is  5.0325\n"
          ],
          "name": "stdout"
        }
      ]
    }
  ]
}